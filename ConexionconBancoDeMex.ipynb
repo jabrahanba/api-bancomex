{
 "cells": [
  {
   "cell_type": "markdown",
   "metadata": {},
   "source": [
    "# **Librerias y frameworks**"
   ]
  },
  {
   "cell_type": "code",
   "execution_count": 30,
   "metadata": {},
   "outputs": [],
   "source": [
    "import requests\n",
    "import pandas as pd\n",
    "import numpy as np\n",
    "import psycopg2\n",
    "from dotenv import load_dotenv\n",
    "import os\n",
    "token = ''\n",
    "load_dotenv(\"config.env\")\n",
    "token = os.getenv(\"TOKEN\")"
   ]
  },
  {
   "cell_type": "markdown",
   "metadata": {},
   "source": [
    "# **E- Extracción**"
   ]
  },
  {
   "cell_type": "code",
   "execution_count": 21,
   "metadata": {},
   "outputs": [],
   "source": [
    "def dload_bmx_serie(serie,fechaInicio, fechaFin, token):\n",
    "    '''Esta funcion devuelve un DataFrame extraido a través de la API del banco de México\n",
    "     tomando como parametros el nombre de la serie y el rango de fechas. \n",
    "     El catalogo adjuntado previamente otorga los códigos alimentar la función'''\n",
    "        \n",
    "    url = 'https://www.banxico.org.mx/SieAPIRest/service/v1/series/'+serie+'/datos/'+fechaInicio+'/'+fechaFin\n",
    "    print(url)\n",
    "    headers = {'Bmx-Token':token} #Asi lo establece la web\n",
    "    response = requests.get(url, headers=headers)\n",
    "    status = response.status_code\n",
    "    if status != 200: #código de estado http 200 significa OK.\n",
    "        return print(f'Error en la consulta, codigo {status}')\n",
    "    rawData = response.json() #aca es donde trae la info.\n",
    "    data = rawData['bmx']['series'][0]['datos'] #con el método de corchetes se extraen los elementos que se necesitan de response.\n",
    "    df = pd.DataFrame(data)\n",
    "    df['dato'] = df['dato'].replace('N/E', np.nan).str.replace(',', '').astype(float)\n",
    "    df['fecha'] = pd.to_datetime(df['fecha'], format='%d/%m/%Y')\n",
    "    df.set_index('fecha', inplace=True)\n",
    "    df.rename(columns={'dato': serie}, inplace=True)\n",
    "    return df\n",
    "\n"
   ]
  },
  {
   "cell_type": "markdown",
   "metadata": {},
   "source": [
    "### Descarga y creación de DF:"
   ]
  },
  {
   "cell_type": "code",
   "execution_count": 22,
   "metadata": {},
   "outputs": [
    {
     "name": "stdout",
     "output_type": "stream",
     "text": [
      "https://www.banxico.org.mx/SieAPIRest/service/v1/series/SF44042/datos//\n",
      "https://www.banxico.org.mx/SieAPIRest/service/v1/series/SF44043/datos//\n",
      "https://www.banxico.org.mx/SieAPIRest/service/v1/series/SF44044/datos//\n",
      "https://www.banxico.org.mx/SieAPIRest/service/v1/series/SF43695/datos//\n",
      "https://www.banxico.org.mx/SieAPIRest/service/v1/series/SF43702/datos//\n",
      "https://www.banxico.org.mx/SieAPIRest/service/v1/series/SF43696/datos//\n",
      "            SF44042  SF44043  SF44044    SF43695    SF43702  SF43696\n",
      "fecha                                                               \n",
      "1989-01-01      NaN      NaN      NaN        NaN    14522.3      NaN\n",
      "1989-01-02      NaN      NaN      NaN        NaN    14499.7      NaN\n",
      "1989-01-03      NaN      NaN      NaN        NaN    14164.6      NaN\n",
      "1989-01-04      NaN      NaN      NaN        NaN    13655.9      NaN\n",
      "1989-01-05      NaN      NaN      NaN        NaN    13445.1      NaN\n",
      "...             ...      ...      ...        ...        ...      ...\n",
      "2023-07-09      NaN   2696.8   2696.8  2696792.1  2695847.2    944.8\n",
      "2023-07-10      NaN   2696.7   2696.7  2696717.7  2695281.0   1436.7\n",
      "2023-07-11      NaN   2697.6   2697.6  2697614.1  2694298.4   3315.7\n",
      "2023-07-12      NaN   2698.6   2698.6  2698646.6  2695730.3   2916.3\n",
      "2023-07-13      NaN   2705.2   2705.2  2705249.2  2703990.0   1259.1\n",
      "\n",
      "[12612 rows x 6 columns]\n"
     ]
    }
   ],
   "source": [
    "# Definir la lista de series a descargar\n",
    "series = ['SF44042','SF44043','SF44044','SF43695','SF43702','SF43696']\n",
    "\n",
    "df_final = pd.DataFrame()\n",
    "\n",
    "# Parámetros comunes para todas las descargas\n",
    "fechaInicio = ''\n",
    "fechaFin = ''\n",
    "token = token \n",
    "\n",
    "for serie in series:\n",
    "    df = dload_bmx_serie(serie, fechaInicio, fechaFin, token)\n",
    "    if df_final.empty:\n",
    "        df_final = df\n",
    "    else:\n",
    "        df_final = pd.concat([df_final, df], axis=1)\n",
    "\n",
    "print(df_final)"
   ]
  },
  {
   "cell_type": "markdown",
   "metadata": {},
   "source": [
    "# **T- Transformación**"
   ]
  },
  {
   "cell_type": "code",
   "execution_count": 24,
   "metadata": {},
   "outputs": [
    {
     "data": {
      "text/plain": [
       "SF44042    7671\n",
       "SF44043    2922\n",
       "SF44044    2922\n",
       "SF43695    2556\n",
       "SF43702       0\n",
       "SF43696    2556\n",
       "dtype: int64"
      ]
     },
     "execution_count": 24,
     "metadata": {},
     "output_type": "execute_result"
    }
   ],
   "source": [
    "df_final.isna().sum()"
   ]
  },
  {
   "cell_type": "code",
   "execution_count": 38,
   "metadata": {},
   "outputs": [],
   "source": [
    "df_final = df_final.fillna(0)"
   ]
  },
  {
   "cell_type": "code",
   "execution_count": 39,
   "metadata": {},
   "outputs": [
    {
     "data": {
      "text/plain": [
       "SF44042    0\n",
       "SF44043    0\n",
       "SF44044    0\n",
       "SF43695    0\n",
       "SF43702    0\n",
       "SF43696    0\n",
       "dtype: int64"
      ]
     },
     "execution_count": 39,
     "metadata": {},
     "output_type": "execute_result"
    }
   ],
   "source": [
    "df_final.isna().sum()"
   ]
  },
  {
   "cell_type": "code",
   "execution_count": 40,
   "metadata": {},
   "outputs": [
    {
     "data": {
      "text/html": [
       "<div>\n",
       "<style scoped>\n",
       "    .dataframe tbody tr th:only-of-type {\n",
       "        vertical-align: middle;\n",
       "    }\n",
       "\n",
       "    .dataframe tbody tr th {\n",
       "        vertical-align: top;\n",
       "    }\n",
       "\n",
       "    .dataframe thead th {\n",
       "        text-align: right;\n",
       "    }\n",
       "</style>\n",
       "<table border=\"1\" class=\"dataframe\">\n",
       "  <thead>\n",
       "    <tr style=\"text-align: right;\">\n",
       "      <th></th>\n",
       "      <th>SF44042</th>\n",
       "      <th>SF44043</th>\n",
       "      <th>SF44044</th>\n",
       "      <th>SF43695</th>\n",
       "      <th>SF43702</th>\n",
       "      <th>SF43696</th>\n",
       "    </tr>\n",
       "    <tr>\n",
       "      <th>fecha</th>\n",
       "      <th></th>\n",
       "      <th></th>\n",
       "      <th></th>\n",
       "      <th></th>\n",
       "      <th></th>\n",
       "      <th></th>\n",
       "    </tr>\n",
       "  </thead>\n",
       "  <tbody>\n",
       "    <tr>\n",
       "      <th>1989-01-01</th>\n",
       "      <td>0.0</td>\n",
       "      <td>0.0</td>\n",
       "      <td>0.0</td>\n",
       "      <td>0.0</td>\n",
       "      <td>14522.3</td>\n",
       "      <td>0.0</td>\n",
       "    </tr>\n",
       "    <tr>\n",
       "      <th>1989-01-02</th>\n",
       "      <td>0.0</td>\n",
       "      <td>0.0</td>\n",
       "      <td>0.0</td>\n",
       "      <td>0.0</td>\n",
       "      <td>14499.7</td>\n",
       "      <td>0.0</td>\n",
       "    </tr>\n",
       "    <tr>\n",
       "      <th>1989-01-03</th>\n",
       "      <td>0.0</td>\n",
       "      <td>0.0</td>\n",
       "      <td>0.0</td>\n",
       "      <td>0.0</td>\n",
       "      <td>14164.6</td>\n",
       "      <td>0.0</td>\n",
       "    </tr>\n",
       "    <tr>\n",
       "      <th>1989-01-04</th>\n",
       "      <td>0.0</td>\n",
       "      <td>0.0</td>\n",
       "      <td>0.0</td>\n",
       "      <td>0.0</td>\n",
       "      <td>13655.9</td>\n",
       "      <td>0.0</td>\n",
       "    </tr>\n",
       "    <tr>\n",
       "      <th>1989-01-05</th>\n",
       "      <td>0.0</td>\n",
       "      <td>0.0</td>\n",
       "      <td>0.0</td>\n",
       "      <td>0.0</td>\n",
       "      <td>13445.1</td>\n",
       "      <td>0.0</td>\n",
       "    </tr>\n",
       "  </tbody>\n",
       "</table>\n",
       "</div>"
      ],
      "text/plain": [
       "            SF44042  SF44043  SF44044  SF43695  SF43702  SF43696\n",
       "fecha                                                           \n",
       "1989-01-01      0.0      0.0      0.0      0.0  14522.3      0.0\n",
       "1989-01-02      0.0      0.0      0.0      0.0  14499.7      0.0\n",
       "1989-01-03      0.0      0.0      0.0      0.0  14164.6      0.0\n",
       "1989-01-04      0.0      0.0      0.0      0.0  13655.9      0.0\n",
       "1989-01-05      0.0      0.0      0.0      0.0  13445.1      0.0"
      ]
     },
     "execution_count": 40,
     "metadata": {},
     "output_type": "execute_result"
    }
   ],
   "source": [
    "df_final.head()"
   ]
  },
  {
   "cell_type": "code",
   "execution_count": 41,
   "metadata": {},
   "outputs": [
    {
     "data": {
      "text/plain": [
       "SF44042    float64\n",
       "SF44043    float64\n",
       "SF44044    float64\n",
       "SF43695    float64\n",
       "SF43702    float64\n",
       "SF43696    float64\n",
       "dtype: object"
      ]
     },
     "execution_count": 41,
     "metadata": {},
     "output_type": "execute_result"
    }
   ],
   "source": [
    "df_final.dtypes"
   ]
  },
  {
   "cell_type": "code",
   "execution_count": 43,
   "metadata": {},
   "outputs": [
    {
     "data": {
      "text/html": [
       "<div>\n",
       "<style scoped>\n",
       "    .dataframe tbody tr th:only-of-type {\n",
       "        vertical-align: middle;\n",
       "    }\n",
       "\n",
       "    .dataframe tbody tr th {\n",
       "        vertical-align: top;\n",
       "    }\n",
       "\n",
       "    .dataframe thead th {\n",
       "        text-align: right;\n",
       "    }\n",
       "</style>\n",
       "<table border=\"1\" class=\"dataframe\">\n",
       "  <thead>\n",
       "    <tr style=\"text-align: right;\">\n",
       "      <th></th>\n",
       "      <th>fecha</th>\n",
       "      <th>SF44042</th>\n",
       "      <th>SF44043</th>\n",
       "      <th>SF44044</th>\n",
       "      <th>SF43695</th>\n",
       "      <th>SF43702</th>\n",
       "      <th>SF43696</th>\n",
       "    </tr>\n",
       "  </thead>\n",
       "  <tbody>\n",
       "    <tr>\n",
       "      <th>0</th>\n",
       "      <td>1989-01-01</td>\n",
       "      <td>0.0</td>\n",
       "      <td>0.0</td>\n",
       "      <td>0.0</td>\n",
       "      <td>0.0</td>\n",
       "      <td>14522.3</td>\n",
       "      <td>0.0</td>\n",
       "    </tr>\n",
       "    <tr>\n",
       "      <th>1</th>\n",
       "      <td>1989-01-02</td>\n",
       "      <td>0.0</td>\n",
       "      <td>0.0</td>\n",
       "      <td>0.0</td>\n",
       "      <td>0.0</td>\n",
       "      <td>14499.7</td>\n",
       "      <td>0.0</td>\n",
       "    </tr>\n",
       "    <tr>\n",
       "      <th>2</th>\n",
       "      <td>1989-01-03</td>\n",
       "      <td>0.0</td>\n",
       "      <td>0.0</td>\n",
       "      <td>0.0</td>\n",
       "      <td>0.0</td>\n",
       "      <td>14164.6</td>\n",
       "      <td>0.0</td>\n",
       "    </tr>\n",
       "    <tr>\n",
       "      <th>3</th>\n",
       "      <td>1989-01-04</td>\n",
       "      <td>0.0</td>\n",
       "      <td>0.0</td>\n",
       "      <td>0.0</td>\n",
       "      <td>0.0</td>\n",
       "      <td>13655.9</td>\n",
       "      <td>0.0</td>\n",
       "    </tr>\n",
       "    <tr>\n",
       "      <th>4</th>\n",
       "      <td>1989-01-05</td>\n",
       "      <td>0.0</td>\n",
       "      <td>0.0</td>\n",
       "      <td>0.0</td>\n",
       "      <td>0.0</td>\n",
       "      <td>13445.1</td>\n",
       "      <td>0.0</td>\n",
       "    </tr>\n",
       "    <tr>\n",
       "      <th>...</th>\n",
       "      <td>...</td>\n",
       "      <td>...</td>\n",
       "      <td>...</td>\n",
       "      <td>...</td>\n",
       "      <td>...</td>\n",
       "      <td>...</td>\n",
       "      <td>...</td>\n",
       "    </tr>\n",
       "    <tr>\n",
       "      <th>12607</th>\n",
       "      <td>2023-07-09</td>\n",
       "      <td>0.0</td>\n",
       "      <td>2696.8</td>\n",
       "      <td>2696.8</td>\n",
       "      <td>2696792.1</td>\n",
       "      <td>2695847.2</td>\n",
       "      <td>944.8</td>\n",
       "    </tr>\n",
       "    <tr>\n",
       "      <th>12608</th>\n",
       "      <td>2023-07-10</td>\n",
       "      <td>0.0</td>\n",
       "      <td>2696.7</td>\n",
       "      <td>2696.7</td>\n",
       "      <td>2696717.7</td>\n",
       "      <td>2695281.0</td>\n",
       "      <td>1436.7</td>\n",
       "    </tr>\n",
       "    <tr>\n",
       "      <th>12609</th>\n",
       "      <td>2023-07-11</td>\n",
       "      <td>0.0</td>\n",
       "      <td>2697.6</td>\n",
       "      <td>2697.6</td>\n",
       "      <td>2697614.1</td>\n",
       "      <td>2694298.4</td>\n",
       "      <td>3315.7</td>\n",
       "    </tr>\n",
       "    <tr>\n",
       "      <th>12610</th>\n",
       "      <td>2023-07-12</td>\n",
       "      <td>0.0</td>\n",
       "      <td>2698.6</td>\n",
       "      <td>2698.6</td>\n",
       "      <td>2698646.6</td>\n",
       "      <td>2695730.3</td>\n",
       "      <td>2916.3</td>\n",
       "    </tr>\n",
       "    <tr>\n",
       "      <th>12611</th>\n",
       "      <td>2023-07-13</td>\n",
       "      <td>0.0</td>\n",
       "      <td>2705.2</td>\n",
       "      <td>2705.2</td>\n",
       "      <td>2705249.2</td>\n",
       "      <td>2703990.0</td>\n",
       "      <td>1259.1</td>\n",
       "    </tr>\n",
       "  </tbody>\n",
       "</table>\n",
       "<p>12612 rows × 7 columns</p>\n",
       "</div>"
      ],
      "text/plain": [
       "           fecha  SF44042  SF44043  SF44044    SF43695    SF43702  SF43696\n",
       "0     1989-01-01      0.0      0.0      0.0        0.0    14522.3      0.0\n",
       "1     1989-01-02      0.0      0.0      0.0        0.0    14499.7      0.0\n",
       "2     1989-01-03      0.0      0.0      0.0        0.0    14164.6      0.0\n",
       "3     1989-01-04      0.0      0.0      0.0        0.0    13655.9      0.0\n",
       "4     1989-01-05      0.0      0.0      0.0        0.0    13445.1      0.0\n",
       "...          ...      ...      ...      ...        ...        ...      ...\n",
       "12607 2023-07-09      0.0   2696.8   2696.8  2696792.1  2695847.2    944.8\n",
       "12608 2023-07-10      0.0   2696.7   2696.7  2696717.7  2695281.0   1436.7\n",
       "12609 2023-07-11      0.0   2697.6   2697.6  2697614.1  2694298.4   3315.7\n",
       "12610 2023-07-12      0.0   2698.6   2698.6  2698646.6  2695730.3   2916.3\n",
       "12611 2023-07-13      0.0   2705.2   2705.2  2705249.2  2703990.0   1259.1\n",
       "\n",
       "[12612 rows x 7 columns]"
      ]
     },
     "execution_count": 43,
     "metadata": {},
     "output_type": "execute_result"
    }
   ],
   "source": [
    "df_final = df_final.reset_index()\n",
    "df_final"
   ]
  },
  {
   "cell_type": "markdown",
   "metadata": {},
   "source": [
    "# **L- Carga**"
   ]
  },
  {
   "cell_type": "markdown",
   "metadata": {},
   "source": [
    "### Conexión a Redshift:"
   ]
  },
  {
   "cell_type": "code",
   "execution_count": 31,
   "metadata": {},
   "outputs": [],
   "source": [
    "host = os.getenv(\"HOST\")\n",
    "port = os.getenv(\"PORT\")\n",
    "user = os.getenv(\"USER\")\n",
    "password = os.getenv(\"PASSWORD\")\n",
    "database = os.getenv(\"DATABASE\")"
   ]
  },
  {
   "cell_type": "code",
   "execution_count": 32,
   "metadata": {},
   "outputs": [],
   "source": [
    "conn = psycopg2.connect(\n",
    "    host=host,\n",
    "    port=port,\n",
    "    user=user,\n",
    "    password=password,\n",
    "    database=database,\n",
    ")\n"
   ]
  },
  {
   "cell_type": "markdown",
   "metadata": {},
   "source": [
    "### Creación de tabla vacia:"
   ]
  },
  {
   "cell_type": "code",
   "execution_count": 44,
   "metadata": {},
   "outputs": [],
   "source": [
    "with conn.cursor() as cursor:\n",
    "    create_table_query = '''\n",
    "    CREATE TABLE jabrahanba_coderhouse.bancoMex (\n",
    "        fecha DATE,\n",
    "        SF44042 NUMERIC(16,2),\n",
    "\t    SF44043 NUMERIC(16,2),\n",
    "\t    SF44044 NUMERIC(16,2),\n",
    "\t    SF43695 NUMERIC(16,2),\n",
    "\t    SF43702 NUMERIC(16,2),\n",
    "\t    SF43696 NUMERIC(16,2)\n",
    "    )\n",
    "'''\n",
    "    cursor.execute(create_table_query)\n",
    "    conn.commit()\n"
   ]
  },
  {
   "cell_type": "markdown",
   "metadata": {},
   "source": [
    "### Carga de tabla vacia:"
   ]
  },
  {
   "cell_type": "code",
   "execution_count": 47,
   "metadata": {},
   "outputs": [],
   "source": [
    "filas_bancoMex = [tuple(df_final.iloc[i].values) for i in range (df_final.shape[0])]\n",
    "fill_bancoMex = '''\n",
    "INSERT INTO jabrahanba_coderhouse.bancoMex (fecha, SF44042, SF44043, SF44044, SF43695, SF43702, SF43696)\n",
    "VALUES (%s, %s, %s, %s, %s, %s, %s)\n",
    "'''\n",
    "with conn.cursor() as cursor:\n",
    "    cursor.executemany(fill_bancoMex, filas_bancoMex)\n",
    "    conn.commit()"
   ]
  }
 ],
 "metadata": {
  "kernelspec": {
   "display_name": "base",
   "language": "python",
   "name": "python3"
  },
  "language_info": {
   "codemirror_mode": {
    "name": "ipython",
    "version": 3
   },
   "file_extension": ".py",
   "mimetype": "text/x-python",
   "name": "python",
   "nbconvert_exporter": "python",
   "pygments_lexer": "ipython3",
   "version": "3.9.16"
  },
  "orig_nbformat": 4,
  "vscode": {
   "interpreter": {
    "hash": "52ba17941256ee65bd296c645a576789f520bd10e85c9961ce82eb586611edc5"
   }
  }
 },
 "nbformat": 4,
 "nbformat_minor": 2
}
