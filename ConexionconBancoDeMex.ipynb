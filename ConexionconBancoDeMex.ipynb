{
 "cells": [
  {
   "cell_type": "markdown",
   "metadata": {},
   "source": [
    "# **Librerias y frameworks**"
   ]
  },
  {
   "cell_type": "code",
   "execution_count": 1,
   "metadata": {},
   "outputs": [],
   "source": [
    "import requests\n",
    "import pandas as pd\n",
    "import numpy as np\n",
    "import psycopg2\n",
    "from dotenv import load_dotenv\n",
    "import os\n",
    "token = ''\n",
    "load_dotenv(\"config.env\")\n",
    "token = os.getenv(\"TOKEN\")"
   ]
  },
  {
   "cell_type": "markdown",
   "metadata": {},
   "source": [
    "# **E- Extracción**"
   ]
  },
  {
   "cell_type": "code",
   "execution_count": 13,
   "metadata": {},
   "outputs": [],
   "source": [
    "def dload_bmx_serie(serie,fechaInicio, fechaFin, token):\n",
    "    '''Esta funcion devuelve un DataFrame extraido a través de la API del banco de México\n",
    "     tomando como parametros el nombre de la serie y el rango de fechas. \n",
    "     El catalogo adjuntado previamente otorga los códigos alimentar la función'''\n",
    "        \n",
    "    url = 'https://www.banxico.org.mx/SieAPIRest/service/v1/series/'+serie+'/datos/'+fechaInicio+'/'+fechaFin\n",
    "    print(url)\n",
    "    headers = {'Bmx-Token':token} #Asi lo establece la web\n",
    "    response = requests.get(url, headers=headers)\n",
    "    status = response.status_code\n",
    "    if status != 200: #código de estado http 200 significa OK.\n",
    "        return print(f'Error en la consulta, codigo {status}')\n",
    "    rawData = response.json() #aca es donde trae la info.\n",
    "    data = rawData['bmx']['series'][0]['datos'] #con el método de corchetes se extraen los elementos que se necesitan de response.\n",
    "    df = pd.DataFrame(data)\n",
    "    df['dato'] = df['dato'].replace('N/E', np.nan).str.replace(',', '').astype(float)\n",
    "    df['fecha'] = pd.to_datetime(df['fecha'], format='%d/%m/%Y')\n",
    "    df.set_index('fecha', inplace=True)\n",
    "    df.rename(columns={'dato': serie}, inplace=True)\n",
    "    return df\n",
    "\n"
   ]
  },
  {
   "cell_type": "markdown",
   "metadata": {},
   "source": [
    "### Descarga y creación de DF:"
   ]
  },
  {
   "cell_type": "code",
   "execution_count": 14,
   "metadata": {},
   "outputs": [
    {
     "name": "stdout",
     "output_type": "stream",
     "text": [
      "https://www.banxico.org.mx/SieAPIRest/service/v1/series/SF44042/datos//\n",
      "https://www.banxico.org.mx/SieAPIRest/service/v1/series/SF44043/datos//\n",
      "https://www.banxico.org.mx/SieAPIRest/service/v1/series/SF44044/datos//\n",
      "https://www.banxico.org.mx/SieAPIRest/service/v1/series/SF43695/datos//\n",
      "https://www.banxico.org.mx/SieAPIRest/service/v1/series/SF43702/datos//\n",
      "https://www.banxico.org.mx/SieAPIRest/service/v1/series/SF43696/datos//\n",
      "            SF44042  SF44043  SF44044    SF43695    SF43702  SF43696\n",
      "fecha                                                               \n",
      "1989-01-01      NaN      NaN      NaN        NaN    14522.3      NaN\n",
      "1989-01-02      NaN      NaN      NaN        NaN    14499.7      NaN\n",
      "1989-01-03      NaN      NaN      NaN        NaN    14164.6      NaN\n",
      "1989-01-04      NaN      NaN      NaN        NaN    13655.9      NaN\n",
      "1989-01-05      NaN      NaN      NaN        NaN    13445.1      NaN\n",
      "...             ...      ...      ...        ...        ...      ...\n",
      "2023-07-16      NaN   2715.3   2715.3  2715314.5  2714275.8   1038.7\n",
      "2023-07-17      NaN   2714.4   2714.4  2714398.1  2712107.7   2290.4\n",
      "2023-07-18      NaN   2712.3   2712.3  2712251.7  2711044.5   1207.2\n",
      "2023-07-19      NaN   2710.5   2710.5  2710473.4  2709888.7    584.7\n",
      "2023-07-20      NaN   2711.6   2711.6  2711576.8  2710724.1    852.7\n",
      "\n",
      "[12619 rows x 6 columns]\n"
     ]
    }
   ],
   "source": [
    "# Definir la lista de series a descargar\n",
    "series = ['SF44042','SF44043','SF44044','SF43695','SF43702','SF43696']\n",
    "\n",
    "df_final = pd.DataFrame()\n",
    "\n",
    "# Parámetros comunes para todas las descargas\n",
    "fechaInicio = ''\n",
    "fechaFin = ''\n",
    "token = token \n",
    "\n",
    "for serie in series:\n",
    "    df = dload_bmx_serie(serie, fechaInicio, fechaFin, token)\n",
    "    if df_final.empty:\n",
    "        df_final = df\n",
    "    else:\n",
    "        df_final = pd.concat([df_final, df], axis=1)\n",
    "\n",
    "print(df_final)"
   ]
  },
  {
   "cell_type": "markdown",
   "metadata": {},
   "source": [
    "# **T- Transformación**"
   ]
  },
  {
   "cell_type": "code",
   "execution_count": 15,
   "metadata": {},
   "outputs": [
    {
     "data": {
      "text/plain": [
       "SF44042    7678\n",
       "SF44043    2922\n",
       "SF44044    2922\n",
       "SF43695    2556\n",
       "SF43702       0\n",
       "SF43696    2556\n",
       "dtype: int64"
      ]
     },
     "execution_count": 15,
     "metadata": {},
     "output_type": "execute_result"
    }
   ],
   "source": [
    "df_final.isna().sum()"
   ]
  },
  {
   "cell_type": "code",
   "execution_count": 16,
   "metadata": {},
   "outputs": [],
   "source": [
    "df_final = df_final.fillna(0)"
   ]
  },
  {
   "cell_type": "code",
   "execution_count": 17,
   "metadata": {},
   "outputs": [
    {
     "data": {
      "text/plain": [
       "SF44042    0\n",
       "SF44043    0\n",
       "SF44044    0\n",
       "SF43695    0\n",
       "SF43702    0\n",
       "SF43696    0\n",
       "dtype: int64"
      ]
     },
     "execution_count": 17,
     "metadata": {},
     "output_type": "execute_result"
    }
   ],
   "source": [
    "df_final.isna().sum()"
   ]
  },
  {
   "cell_type": "code",
   "execution_count": 18,
   "metadata": {},
   "outputs": [
    {
     "data": {
      "text/html": [
       "<div>\n",
       "<style scoped>\n",
       "    .dataframe tbody tr th:only-of-type {\n",
       "        vertical-align: middle;\n",
       "    }\n",
       "\n",
       "    .dataframe tbody tr th {\n",
       "        vertical-align: top;\n",
       "    }\n",
       "\n",
       "    .dataframe thead th {\n",
       "        text-align: right;\n",
       "    }\n",
       "</style>\n",
       "<table border=\"1\" class=\"dataframe\">\n",
       "  <thead>\n",
       "    <tr style=\"text-align: right;\">\n",
       "      <th></th>\n",
       "      <th>SF44042</th>\n",
       "      <th>SF44043</th>\n",
       "      <th>SF44044</th>\n",
       "      <th>SF43695</th>\n",
       "      <th>SF43702</th>\n",
       "      <th>SF43696</th>\n",
       "    </tr>\n",
       "    <tr>\n",
       "      <th>fecha</th>\n",
       "      <th></th>\n",
       "      <th></th>\n",
       "      <th></th>\n",
       "      <th></th>\n",
       "      <th></th>\n",
       "      <th></th>\n",
       "    </tr>\n",
       "  </thead>\n",
       "  <tbody>\n",
       "    <tr>\n",
       "      <th>1989-01-01</th>\n",
       "      <td>0.0</td>\n",
       "      <td>0.0</td>\n",
       "      <td>0.0</td>\n",
       "      <td>0.0</td>\n",
       "      <td>14522.3</td>\n",
       "      <td>0.0</td>\n",
       "    </tr>\n",
       "    <tr>\n",
       "      <th>1989-01-02</th>\n",
       "      <td>0.0</td>\n",
       "      <td>0.0</td>\n",
       "      <td>0.0</td>\n",
       "      <td>0.0</td>\n",
       "      <td>14499.7</td>\n",
       "      <td>0.0</td>\n",
       "    </tr>\n",
       "    <tr>\n",
       "      <th>1989-01-03</th>\n",
       "      <td>0.0</td>\n",
       "      <td>0.0</td>\n",
       "      <td>0.0</td>\n",
       "      <td>0.0</td>\n",
       "      <td>14164.6</td>\n",
       "      <td>0.0</td>\n",
       "    </tr>\n",
       "    <tr>\n",
       "      <th>1989-01-04</th>\n",
       "      <td>0.0</td>\n",
       "      <td>0.0</td>\n",
       "      <td>0.0</td>\n",
       "      <td>0.0</td>\n",
       "      <td>13655.9</td>\n",
       "      <td>0.0</td>\n",
       "    </tr>\n",
       "    <tr>\n",
       "      <th>1989-01-05</th>\n",
       "      <td>0.0</td>\n",
       "      <td>0.0</td>\n",
       "      <td>0.0</td>\n",
       "      <td>0.0</td>\n",
       "      <td>13445.1</td>\n",
       "      <td>0.0</td>\n",
       "    </tr>\n",
       "  </tbody>\n",
       "</table>\n",
       "</div>"
      ],
      "text/plain": [
       "            SF44042  SF44043  SF44044  SF43695  SF43702  SF43696\n",
       "fecha                                                           \n",
       "1989-01-01      0.0      0.0      0.0      0.0  14522.3      0.0\n",
       "1989-01-02      0.0      0.0      0.0      0.0  14499.7      0.0\n",
       "1989-01-03      0.0      0.0      0.0      0.0  14164.6      0.0\n",
       "1989-01-04      0.0      0.0      0.0      0.0  13655.9      0.0\n",
       "1989-01-05      0.0      0.0      0.0      0.0  13445.1      0.0"
      ]
     },
     "execution_count": 18,
     "metadata": {},
     "output_type": "execute_result"
    }
   ],
   "source": [
    "df_final.head()"
   ]
  },
  {
   "cell_type": "code",
   "execution_count": 19,
   "metadata": {},
   "outputs": [
    {
     "data": {
      "text/plain": [
       "SF44042    float64\n",
       "SF44043    float64\n",
       "SF44044    float64\n",
       "SF43695    float64\n",
       "SF43702    float64\n",
       "SF43696    float64\n",
       "dtype: object"
      ]
     },
     "execution_count": 19,
     "metadata": {},
     "output_type": "execute_result"
    }
   ],
   "source": [
    "df_final.dtypes"
   ]
  },
  {
   "cell_type": "code",
   "execution_count": 20,
   "metadata": {},
   "outputs": [
    {
     "data": {
      "text/html": [
       "<div>\n",
       "<style scoped>\n",
       "    .dataframe tbody tr th:only-of-type {\n",
       "        vertical-align: middle;\n",
       "    }\n",
       "\n",
       "    .dataframe tbody tr th {\n",
       "        vertical-align: top;\n",
       "    }\n",
       "\n",
       "    .dataframe thead th {\n",
       "        text-align: right;\n",
       "    }\n",
       "</style>\n",
       "<table border=\"1\" class=\"dataframe\">\n",
       "  <thead>\n",
       "    <tr style=\"text-align: right;\">\n",
       "      <th></th>\n",
       "      <th>fecha</th>\n",
       "      <th>SF44042</th>\n",
       "      <th>SF44043</th>\n",
       "      <th>SF44044</th>\n",
       "      <th>SF43695</th>\n",
       "      <th>SF43702</th>\n",
       "      <th>SF43696</th>\n",
       "    </tr>\n",
       "  </thead>\n",
       "  <tbody>\n",
       "    <tr>\n",
       "      <th>0</th>\n",
       "      <td>1989-01-01</td>\n",
       "      <td>0.0</td>\n",
       "      <td>0.0</td>\n",
       "      <td>0.0</td>\n",
       "      <td>0.0</td>\n",
       "      <td>14522.3</td>\n",
       "      <td>0.0</td>\n",
       "    </tr>\n",
       "    <tr>\n",
       "      <th>1</th>\n",
       "      <td>1989-01-02</td>\n",
       "      <td>0.0</td>\n",
       "      <td>0.0</td>\n",
       "      <td>0.0</td>\n",
       "      <td>0.0</td>\n",
       "      <td>14499.7</td>\n",
       "      <td>0.0</td>\n",
       "    </tr>\n",
       "    <tr>\n",
       "      <th>2</th>\n",
       "      <td>1989-01-03</td>\n",
       "      <td>0.0</td>\n",
       "      <td>0.0</td>\n",
       "      <td>0.0</td>\n",
       "      <td>0.0</td>\n",
       "      <td>14164.6</td>\n",
       "      <td>0.0</td>\n",
       "    </tr>\n",
       "    <tr>\n",
       "      <th>3</th>\n",
       "      <td>1989-01-04</td>\n",
       "      <td>0.0</td>\n",
       "      <td>0.0</td>\n",
       "      <td>0.0</td>\n",
       "      <td>0.0</td>\n",
       "      <td>13655.9</td>\n",
       "      <td>0.0</td>\n",
       "    </tr>\n",
       "    <tr>\n",
       "      <th>4</th>\n",
       "      <td>1989-01-05</td>\n",
       "      <td>0.0</td>\n",
       "      <td>0.0</td>\n",
       "      <td>0.0</td>\n",
       "      <td>0.0</td>\n",
       "      <td>13445.1</td>\n",
       "      <td>0.0</td>\n",
       "    </tr>\n",
       "    <tr>\n",
       "      <th>...</th>\n",
       "      <td>...</td>\n",
       "      <td>...</td>\n",
       "      <td>...</td>\n",
       "      <td>...</td>\n",
       "      <td>...</td>\n",
       "      <td>...</td>\n",
       "      <td>...</td>\n",
       "    </tr>\n",
       "    <tr>\n",
       "      <th>12614</th>\n",
       "      <td>2023-07-16</td>\n",
       "      <td>0.0</td>\n",
       "      <td>2715.3</td>\n",
       "      <td>2715.3</td>\n",
       "      <td>2715314.5</td>\n",
       "      <td>2714275.8</td>\n",
       "      <td>1038.7</td>\n",
       "    </tr>\n",
       "    <tr>\n",
       "      <th>12615</th>\n",
       "      <td>2023-07-17</td>\n",
       "      <td>0.0</td>\n",
       "      <td>2714.4</td>\n",
       "      <td>2714.4</td>\n",
       "      <td>2714398.1</td>\n",
       "      <td>2712107.7</td>\n",
       "      <td>2290.4</td>\n",
       "    </tr>\n",
       "    <tr>\n",
       "      <th>12616</th>\n",
       "      <td>2023-07-18</td>\n",
       "      <td>0.0</td>\n",
       "      <td>2712.3</td>\n",
       "      <td>2712.3</td>\n",
       "      <td>2712251.7</td>\n",
       "      <td>2711044.5</td>\n",
       "      <td>1207.2</td>\n",
       "    </tr>\n",
       "    <tr>\n",
       "      <th>12617</th>\n",
       "      <td>2023-07-19</td>\n",
       "      <td>0.0</td>\n",
       "      <td>2710.5</td>\n",
       "      <td>2710.5</td>\n",
       "      <td>2710473.4</td>\n",
       "      <td>2709888.7</td>\n",
       "      <td>584.7</td>\n",
       "    </tr>\n",
       "    <tr>\n",
       "      <th>12618</th>\n",
       "      <td>2023-07-20</td>\n",
       "      <td>0.0</td>\n",
       "      <td>2711.6</td>\n",
       "      <td>2711.6</td>\n",
       "      <td>2711576.8</td>\n",
       "      <td>2710724.1</td>\n",
       "      <td>852.7</td>\n",
       "    </tr>\n",
       "  </tbody>\n",
       "</table>\n",
       "<p>12619 rows × 7 columns</p>\n",
       "</div>"
      ],
      "text/plain": [
       "           fecha  SF44042  SF44043  SF44044    SF43695    SF43702  SF43696\n",
       "0     1989-01-01      0.0      0.0      0.0        0.0    14522.3      0.0\n",
       "1     1989-01-02      0.0      0.0      0.0        0.0    14499.7      0.0\n",
       "2     1989-01-03      0.0      0.0      0.0        0.0    14164.6      0.0\n",
       "3     1989-01-04      0.0      0.0      0.0        0.0    13655.9      0.0\n",
       "4     1989-01-05      0.0      0.0      0.0        0.0    13445.1      0.0\n",
       "...          ...      ...      ...      ...        ...        ...      ...\n",
       "12614 2023-07-16      0.0   2715.3   2715.3  2715314.5  2714275.8   1038.7\n",
       "12615 2023-07-17      0.0   2714.4   2714.4  2714398.1  2712107.7   2290.4\n",
       "12616 2023-07-18      0.0   2712.3   2712.3  2712251.7  2711044.5   1207.2\n",
       "12617 2023-07-19      0.0   2710.5   2710.5  2710473.4  2709888.7    584.7\n",
       "12618 2023-07-20      0.0   2711.6   2711.6  2711576.8  2710724.1    852.7\n",
       "\n",
       "[12619 rows x 7 columns]"
      ]
     },
     "execution_count": 20,
     "metadata": {},
     "output_type": "execute_result"
    }
   ],
   "source": [
    "df_final = df_final.reset_index()\n",
    "df_final"
   ]
  },
  {
   "cell_type": "code",
   "execution_count": null,
   "metadata": {},
   "outputs": [],
   "source": [
    "fechaInicio = input(\"Por favor, ingresa fecha de inicio de la carga en el formato AAAA-MM-DD: \")\n",
    "fechaFin = input(\"Por favor, ingresa fecha de fin de la carga en el formato AAAA-MM-DD: \")"
   ]
  },
  {
   "cell_type": "code",
   "execution_count": 22,
   "metadata": {},
   "outputs": [],
   "source": [
    "#El filtrado por fecha debe hacerse después.\n",
    "df_final = df_final[(df_final['fecha'] >= fechaInicio) & (df_final['fecha'] <= fechaFin)]"
   ]
  },
  {
   "cell_type": "code",
   "execution_count": 23,
   "metadata": {},
   "outputs": [
    {
     "data": {
      "text/html": [
       "<div>\n",
       "<style scoped>\n",
       "    .dataframe tbody tr th:only-of-type {\n",
       "        vertical-align: middle;\n",
       "    }\n",
       "\n",
       "    .dataframe tbody tr th {\n",
       "        vertical-align: top;\n",
       "    }\n",
       "\n",
       "    .dataframe thead th {\n",
       "        text-align: right;\n",
       "    }\n",
       "</style>\n",
       "<table border=\"1\" class=\"dataframe\">\n",
       "  <thead>\n",
       "    <tr style=\"text-align: right;\">\n",
       "      <th></th>\n",
       "      <th>fecha</th>\n",
       "      <th>SF44042</th>\n",
       "      <th>SF44043</th>\n",
       "      <th>SF44044</th>\n",
       "      <th>SF43695</th>\n",
       "      <th>SF43702</th>\n",
       "      <th>SF43696</th>\n",
       "    </tr>\n",
       "  </thead>\n",
       "  <tbody>\n",
       "    <tr>\n",
       "      <th>12612</th>\n",
       "      <td>2023-07-14</td>\n",
       "      <td>0.0</td>\n",
       "      <td>2715.3</td>\n",
       "      <td>2715.3</td>\n",
       "      <td>2715314.5</td>\n",
       "      <td>2714275.8</td>\n",
       "      <td>1038.7</td>\n",
       "    </tr>\n",
       "    <tr>\n",
       "      <th>12613</th>\n",
       "      <td>2023-07-15</td>\n",
       "      <td>0.0</td>\n",
       "      <td>2715.3</td>\n",
       "      <td>2715.3</td>\n",
       "      <td>2715314.5</td>\n",
       "      <td>2714275.8</td>\n",
       "      <td>1038.7</td>\n",
       "    </tr>\n",
       "    <tr>\n",
       "      <th>12614</th>\n",
       "      <td>2023-07-16</td>\n",
       "      <td>0.0</td>\n",
       "      <td>2715.3</td>\n",
       "      <td>2715.3</td>\n",
       "      <td>2715314.5</td>\n",
       "      <td>2714275.8</td>\n",
       "      <td>1038.7</td>\n",
       "    </tr>\n",
       "    <tr>\n",
       "      <th>12615</th>\n",
       "      <td>2023-07-17</td>\n",
       "      <td>0.0</td>\n",
       "      <td>2714.4</td>\n",
       "      <td>2714.4</td>\n",
       "      <td>2714398.1</td>\n",
       "      <td>2712107.7</td>\n",
       "      <td>2290.4</td>\n",
       "    </tr>\n",
       "    <tr>\n",
       "      <th>12616</th>\n",
       "      <td>2023-07-18</td>\n",
       "      <td>0.0</td>\n",
       "      <td>2712.3</td>\n",
       "      <td>2712.3</td>\n",
       "      <td>2712251.7</td>\n",
       "      <td>2711044.5</td>\n",
       "      <td>1207.2</td>\n",
       "    </tr>\n",
       "  </tbody>\n",
       "</table>\n",
       "</div>"
      ],
      "text/plain": [
       "           fecha  SF44042  SF44043  SF44044    SF43695    SF43702  SF43696\n",
       "12612 2023-07-14      0.0   2715.3   2715.3  2715314.5  2714275.8   1038.7\n",
       "12613 2023-07-15      0.0   2715.3   2715.3  2715314.5  2714275.8   1038.7\n",
       "12614 2023-07-16      0.0   2715.3   2715.3  2715314.5  2714275.8   1038.7\n",
       "12615 2023-07-17      0.0   2714.4   2714.4  2714398.1  2712107.7   2290.4\n",
       "12616 2023-07-18      0.0   2712.3   2712.3  2712251.7  2711044.5   1207.2"
      ]
     },
     "execution_count": 23,
     "metadata": {},
     "output_type": "execute_result"
    }
   ],
   "source": [
    "df_final.head()"
   ]
  },
  {
   "cell_type": "markdown",
   "metadata": {},
   "source": [
    "# **L- Carga**"
   ]
  },
  {
   "cell_type": "markdown",
   "metadata": {},
   "source": [
    "### Conexión a Redshift:"
   ]
  },
  {
   "cell_type": "code",
   "execution_count": 31,
   "metadata": {},
   "outputs": [],
   "source": [
    "host = os.getenv(\"HOST\")\n",
    "port = os.getenv(\"PORT\")\n",
    "user = os.getenv(\"USER\")\n",
    "password = os.getenv(\"PASSWORD\")\n",
    "database = os.getenv(\"DATABASE\")"
   ]
  },
  {
   "cell_type": "code",
   "execution_count": 32,
   "metadata": {},
   "outputs": [],
   "source": [
    "conn = psycopg2.connect(\n",
    "    host=host,\n",
    "    port=port,\n",
    "    user=user,\n",
    "    password=password,\n",
    "    database=database,\n",
    ")\n"
   ]
  },
  {
   "cell_type": "markdown",
   "metadata": {},
   "source": [
    "### Creación de tabla vacia:"
   ]
  },
  {
   "cell_type": "code",
   "execution_count": 44,
   "metadata": {},
   "outputs": [],
   "source": [
    "with conn.cursor() as cursor:\n",
    "    create_table_query = '''\n",
    "    CREATE TABLE jabrahanba_coderhouse.bancoMex (\n",
    "        fecha DATE,\n",
    "        SF44042 NUMERIC(16,2),\n",
    "\t    SF44043 NUMERIC(16,2),\n",
    "\t    SF44044 NUMERIC(16,2),\n",
    "\t    SF43695 NUMERIC(16,2),\n",
    "\t    SF43702 NUMERIC(16,2),\n",
    "\t    SF43696 NUMERIC(16,2)\n",
    "    )\n",
    "'''\n",
    "    cursor.execute(create_table_query)\n",
    "    conn.commit()\n"
   ]
  },
  {
   "cell_type": "markdown",
   "metadata": {},
   "source": [
    "### Carga de tabla vacia:"
   ]
  },
  {
   "cell_type": "code",
   "execution_count": 47,
   "metadata": {},
   "outputs": [],
   "source": [
    "filas_bancoMex = [tuple(df_final.iloc[i].values) for i in range (df_final.shape[0])]\n",
    "fill_bancoMex = '''\n",
    "INSERT INTO jabrahanba_coderhouse.bancoMex (fecha, SF44042, SF44043, SF44044, SF43695, SF43702, SF43696)\n",
    "VALUES (%s, %s, %s, %s, %s, %s, %s)\n",
    "'''\n",
    "with conn.cursor() as cursor:\n",
    "    cursor.executemany(fill_bancoMex, filas_bancoMex)\n",
    "    conn.commit()"
   ]
  }
 ],
 "metadata": {
  "kernelspec": {
   "display_name": "base",
   "language": "python",
   "name": "python3"
  },
  "language_info": {
   "codemirror_mode": {
    "name": "ipython",
    "version": 3
   },
   "file_extension": ".py",
   "mimetype": "text/x-python",
   "name": "python",
   "nbconvert_exporter": "python",
   "pygments_lexer": "ipython3",
   "version": "3.11.4"
  },
  "orig_nbformat": 4,
  "vscode": {
   "interpreter": {
    "hash": "52ba17941256ee65bd296c645a576789f520bd10e85c9961ce82eb586611edc5"
   }
  }
 },
 "nbformat": 4,
 "nbformat_minor": 2
}
